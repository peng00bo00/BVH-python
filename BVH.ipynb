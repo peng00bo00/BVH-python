{
 "cells": [
  {
   "cell_type": "markdown",
   "metadata": {},
   "source": [
    "A python implementation of BVH for ray casting."
   ]
  },
  {
   "cell_type": "code",
   "execution_count": 1,
   "metadata": {},
   "outputs": [],
   "source": [
    "import numpy as np\n",
    "from typing import Tuple\n",
    "\n",
    "import igl"
   ]
  },
  {
   "cell_type": "markdown",
   "metadata": {},
   "source": [
    "# Ray"
   ]
  },
  {
   "cell_type": "code",
   "execution_count": 2,
   "metadata": {},
   "outputs": [],
   "source": [
    "class Ray:\n",
    "    \"\"\"Ray implementation.\n",
    "    \"\"\"\n",
    "\n",
    "    def __init__(self, origin:np.ndarray = np.zeros(3), dir:np.ndarray = np.array([0,0,1]),\n",
    "                 tMax:float = float(\"inf\"), t:float = 0.):\n",
    "        self.origin = origin\n",
    "        self.dir = dir / np.linalg.norm(dir)\n",
    "        \n",
    "        self.tMax= tMax\n",
    "        self.t   = t\n",
    "    \n",
    "    def __repr__(self) -> str:\n",
    "        return f\"Origin: {self.origin}, Direction: {self.dir}, tMax: {self.tMax}, t: {self.t}\"\n",
    "    \n",
    "    def __call__(self, t) -> np.ndarray:\n",
    "        \"\"\"Cast ray with given time.\n",
    "        \"\"\"\n",
    "        return self.origin + t*self.dir"
   ]
  },
  {
   "cell_type": "code",
   "execution_count": 3,
   "metadata": {},
   "outputs": [
    {
     "data": {
      "text/plain": [
       "array([ 0.,  0., 10.])"
      ]
     },
     "execution_count": 3,
     "metadata": {},
     "output_type": "execute_result"
    }
   ],
   "source": [
    "ray = Ray(dir = np.array([0.,0., 2]))\n",
    "ray(10.0)"
   ]
  },
  {
   "cell_type": "markdown",
   "metadata": {},
   "source": [
    "# Bound"
   ]
  },
  {
   "cell_type": "code",
   "execution_count": 4,
   "metadata": {},
   "outputs": [],
   "source": [
    "class Bound3D:\n",
    "    \"\"\"3D bounding box implementation.\n",
    "    \"\"\"\n",
    "\n",
    "    def __init__(self, p1: np.ndarray, p2: np.ndarray):\n",
    "        self.pMin = np.minimum(p1, p2)\n",
    "        self.pMax = np.maximum(p1, p2)\n",
    "    \n",
    "    def __repr__(self) -> str:\n",
    "        return f\"pMin: {self.pMin}, pMax: {self.pMax}\"\n",
    "    \n",
    "    def diag(self) -> np.ndarray:\n",
    "        \"\"\"Diagnoal of the bounding box.\n",
    "        \"\"\"\n",
    "        return self.pMax - self.pMin\n",
    "    \n",
    "    def inside(self, p: np.ndarray) -> bool:\n",
    "        \"\"\"Whether a point p is inside the box.\n",
    "        \"\"\"\n",
    "        x, y, z = p\n",
    "        return self.pMin[0] <= x <= self.pMax[0] \\\n",
    "               and self.pMin[1] <= y <= self.pMax[1] \\\n",
    "               and self.pMin[2] <= z <= self.pMax[2]\n",
    "    \n",
    "    def maximumExtent(self) -> int:\n",
    "        \"\"\"Find the axis with maximum extent.\n",
    "        \"\"\"\n",
    "        d = self.diag()\n",
    "        return np.argmax(d)\n",
    "    \n",
    "    def centroid(self) -> np.ndarray:\n",
    "        \"\"\"Compute centroid of the bounding box.\n",
    "        \"\"\"\n",
    "        return 0.5*(self.pMin+self.pMax)\n",
    "    \n",
    "    def offset(self, p: np.ndarray) -> np.ndarray:\n",
    "        \"\"\"Relative offset of p from the box.\n",
    "        \"\"\"\n",
    "\n",
    "        o = p - self.pMin\n",
    "\n",
    "        for i in range(3):\n",
    "            if self.pMax[i] > self.pMin[i]:\n",
    "                o[i] /= (self.pMax[i] - self.pMin[i])\n",
    "\n",
    "        return o\n",
    "    \n",
    "    def surfaceArea(self) -> float:\n",
    "        \"\"\"Surface area of the box.\n",
    "        \"\"\"\n",
    "        d = self.diag()\n",
    "        return 2*(d[0]*d[1] + d[1]*d[2] + d[2]*d[0])\n",
    "    \n",
    "    def intersect(self, ray: Ray) -> bool:\n",
    "        \"\"\"Intersection with a given ray.\n",
    "\n",
    "        Args:\n",
    "            ray: a ray\n",
    "        \n",
    "        Return:\n",
    "            hit: whether the ray hits the bounding box\n",
    "        \"\"\"\n",
    "        t0 = 0.\n",
    "        t1 = ray.tMax\n",
    "\n",
    "        for i in range(3):\n",
    "            invRayDir = 1 / (ray.dir[i]+1e-7)\n",
    "\n",
    "            tNear= (self.pMin[i] - ray.origin[i]) * invRayDir\n",
    "            tFar = (self.pMax[i] - ray.origin[i]) * invRayDir\n",
    "\n",
    "            if tNear > tFar:\n",
    "                tNear, tFar = tFar, tNear\n",
    "\n",
    "            t0 = max(t0, tNear)\n",
    "            t1 = min(t1, tFar)\n",
    "            \n",
    "            if t0 > t1:\n",
    "                return False\n",
    "\n",
    "        return True\n",
    "\n",
    "class EmptyBound3D(Bound3D):\n",
    "    \"\"\"Empty 3D bounding box implementation.\n",
    "    \"\"\"\n",
    "\n",
    "    def __init__(self):\n",
    "        super().__init__(np.zeros(3), np.zeros(3))\n",
    "\n",
    "        self.pMin = np.array([np.Infinity, np.Infinity,np.Infinity])\n",
    "        self.pMax =-np.array([np.Infinity, np.Infinity,np.Infinity])\n",
    "    \n",
    "    def __repr__(self) -> str:\n",
    "        return \"Empty bounding box\"\n",
    "    \n",
    "    def diag(self) -> np.ndarray:\n",
    "        \"\"\"Diagnoal of the bounding box.\n",
    "        \"\"\"\n",
    "        raise NotImplementedError\n",
    "    \n",
    "    def inside(self, p: np.ndarray) -> bool:\n",
    "        \"\"\"Whether a point p is inside the box.\n",
    "        \"\"\"\n",
    "        return False\n",
    "    \n",
    "    def maximumExtent(self) -> int:\n",
    "        \"\"\"Find the axis with maximum extent.\n",
    "        \"\"\"\n",
    "        raise NotImplementedError\n",
    "    \n",
    "    def centroid(self) -> np.ndarray:\n",
    "        \"\"\"Compute centroid of the bounding box.\n",
    "        \"\"\"\n",
    "        raise NotImplementedError\n",
    "    \n",
    "    def offset(self, p: np.ndarray) -> np.ndarray:\n",
    "        \"\"\"Relative offset of p from the box.\n",
    "        \"\"\"\n",
    "        raise NotImplementedError\n",
    "    \n",
    "    def surfaceArea(self) -> float:\n",
    "        \"\"\"Surface area of the box.\n",
    "        \"\"\"\n",
    "        return 0.\n",
    "    \n",
    "    def intersect(self, ray: Ray) -> bool:\n",
    "        \"\"\"Intersection with a given ray.\n",
    "\n",
    "        Args:\n",
    "            ray: a ray\n",
    "        \n",
    "        Return:\n",
    "            hit: whether the ray hits the bounding box\n",
    "        \"\"\"\n",
    "        return False\n",
    "\n",
    "def unionBound(b1: Bound3D, b2: Bound3D) -> Bound3D:\n",
    "    \"\"\"Union of two bounding box.\n",
    "\n",
    "    Args:\n",
    "        b1: the first bounding box\n",
    "        b1: the second bounding box\n",
    "    \n",
    "    Return:\n",
    "        box: the union of b1 and b2\n",
    "    \"\"\"\n",
    "\n",
    "    ## check if b1 or b2 is empty\n",
    "    if isinstance(b1, EmptyBound3D):\n",
    "        return b2\n",
    "    elif isinstance(b2, EmptyBound3D):\n",
    "        return b1\n",
    "    \n",
    "    p1 = np.minimum(b1.pMin, b2.pMin)\n",
    "    p2 = np.maximum(b1.pMax, b2.pMax)\n",
    "\n",
    "    box = Bound3D(p1, p2)\n",
    "\n",
    "    return box\n",
    "\n",
    "# def emptyBound() -> Bound3D:\n",
    "#     \"\"\"Create an empty bounding box.\n",
    "\n",
    "#     Return:\n",
    "#         box: an empty bounding box\n",
    "#     \"\"\"\n",
    "\n",
    "#     box = Bound3D(np.zeros(3), np.zeros(3))\n",
    "#     box.pMin = np.array([np.Infinity, np.Infinity,np.Infinity])\n",
    "#     box.pMax =-np.array([np.Infinity, np.Infinity,np.Infinity])\n",
    "\n",
    "#     return box"
   ]
  },
  {
   "cell_type": "code",
   "execution_count": 5,
   "metadata": {},
   "outputs": [
    {
     "data": {
      "text/plain": [
       "False"
      ]
     },
     "execution_count": 5,
     "metadata": {},
     "output_type": "execute_result"
    }
   ],
   "source": [
    "p1 = np.array([3,4,5])\n",
    "p2 = np.array([6,3,1])\n",
    "\n",
    "bbox = Bound3D(p1, p2)\n",
    "bbox.diag()\n",
    "\n",
    "bbox.inside(np.array([0,0,0]))"
   ]
  },
  {
   "cell_type": "code",
   "execution_count": 6,
   "metadata": {},
   "outputs": [
    {
     "data": {
      "text/plain": [
       "pMin: [3 3 1], pMax: [6 4 5]"
      ]
     },
     "execution_count": 6,
     "metadata": {},
     "output_type": "execute_result"
    }
   ],
   "source": [
    "bbox"
   ]
  },
  {
   "cell_type": "code",
   "execution_count": 7,
   "metadata": {},
   "outputs": [
    {
     "data": {
      "text/plain": [
       "pMin: [3 3 1], pMax: [6 4 5]"
      ]
     },
     "execution_count": 7,
     "metadata": {},
     "output_type": "execute_result"
    }
   ],
   "source": [
    "unionBound(EmptyBound3D(), bbox)"
   ]
  },
  {
   "cell_type": "code",
   "execution_count": 8,
   "metadata": {},
   "outputs": [
    {
     "data": {
      "text/plain": [
       "True"
      ]
     },
     "execution_count": 8,
     "metadata": {},
     "output_type": "execute_result"
    }
   ],
   "source": [
    "p1 = np.array([0,0,0])\n",
    "p2 = np.array([1,1,1])\n",
    "\n",
    "bbox = Bound3D(p1, p2)\n",
    "\n",
    "ray = Ray(origin=np.array([0.5,0.5,0.5]), dir=np.array([1,0,1]))\n",
    "bbox.intersect(ray)"
   ]
  },
  {
   "cell_type": "markdown",
   "metadata": {},
   "source": [
    "# Triangle"
   ]
  },
  {
   "cell_type": "code",
   "execution_count": 9,
   "metadata": {},
   "outputs": [],
   "source": [
    "class Triangle:\n",
    "    \"\"\"Triangle implementation.\n",
    "    \"\"\"\n",
    "\n",
    "    def __init__(self, v: np.ndarray, faceIdx: int):\n",
    "        self.v       = v\n",
    "        self.faceIdx = faceIdx\n",
    "    \n",
    "    def __repr__(self) -> str:\n",
    "        v0, v1, v2 = self.v\n",
    "        # return f\"v0: {v0}, v1: {v1}, v2: {v2}, faceIdx: {self.faceIdx}\"\n",
    "        return f\"faceIdx: {self.faceIdx}\"\n",
    "    \n",
    "    def bound(self) -> Bound3D:\n",
    "        \"\"\"Get bounding box of the triangle in WCS.\n",
    "        \"\"\"\n",
    "\n",
    "        p1 = np.min(self.v, axis=0)\n",
    "        p2 = np.max(self.v, axis=0)\n",
    "        \n",
    "        return Bound3D(p1, p2)\n",
    "    \n",
    "    def centroid(self) -> np.ndarray:\n",
    "        \"\"\"Get centroid of the triangle in WCS.\n",
    "        \"\"\"\n",
    "\n",
    "        return np.mean(self.v, axis=0)\n",
    "    \n",
    "    def intersect(self, ray: Ray) -> Tuple[bool, float]:\n",
    "        \"\"\"Intersection with a given ray.\n",
    "\n",
    "        Args:\n",
    "            ray: a ray\n",
    "        \n",
    "        Return:\n",
    "            hit: whether the ray hits the bounding box\n",
    "            tHit: time of hit\n",
    "        \"\"\"\n",
    "        \n",
    "        ## find triangle plane\n",
    "        v0, v1, v2 = self.v\n",
    "        e1 = v1 - v0\n",
    "        e2 = v2 - v0\n",
    "\n",
    "        ## normal of the plane\n",
    "        N = np.cross(e1, e2)\n",
    "        N/= np.linalg.norm(N)\n",
    "\n",
    "        ## check if the ray direction is parallel to the normal\n",
    "        NdotDir = np.dot(N, ray.dir)\n",
    "        if np.isclose(NdotDir, 0.):\n",
    "            return False, 0.\n",
    "        \n",
    "        ## find the intersection P\n",
    "        # d = -np.dot(N, v0)\n",
    "        # t = -(np.dot(N, ray.origin) + d) / NdotDir\n",
    "        t = np.dot(N, v0-ray.origin) / NdotDir\n",
    "\n",
    "        ## t must be positive\n",
    "        if t < 0:\n",
    "            return False, 0.\n",
    "\n",
    "        ## outside-inside test\n",
    "        P = ray(t)\n",
    "        ## check e0\n",
    "        e0 = v1 - v0\n",
    "        vp0= P - v0\n",
    "        C  = np.cross(e0, vp0)\n",
    "        if np.dot(N, C) < 0:\n",
    "            return False, 0.\n",
    "\n",
    "        ## check e1\n",
    "        e1 = v2 - v1\n",
    "        vp1= P - v1\n",
    "        C  = np.cross(e1, vp1)\n",
    "        if np.dot(N, C) < 0:\n",
    "            return False, 0.\n",
    "\n",
    "        ## check e2\n",
    "        e2 = v0 - v2\n",
    "        vp2= P - v2\n",
    "        C  = np.cross(e2, vp2)\n",
    "        if np.dot(N, C) < 0:\n",
    "            return False, 0.\n",
    "\n",
    "        return True, t"
   ]
  },
  {
   "cell_type": "code",
   "execution_count": 10,
   "metadata": {},
   "outputs": [
    {
     "data": {
      "text/plain": [
       "array([0.33333333, 0.33333333, 0.33333333])"
      ]
     },
     "execution_count": 10,
     "metadata": {},
     "output_type": "execute_result"
    }
   ],
   "source": [
    "v0 = np.array([1,0,0], dtype=float)\n",
    "v1 = np.array([0,1,0], dtype=float)\n",
    "v2 = np.array([0,0,1], dtype=float)\n",
    "\n",
    "v = np.array([v0, v1, v2])\n",
    "\n",
    "tri = Triangle(v, 0)\n",
    "tri.bound()\n",
    "tri.centroid()"
   ]
  },
  {
   "cell_type": "code",
   "execution_count": 11,
   "metadata": {},
   "outputs": [
    {
     "data": {
      "text/plain": [
       "(False, 0.0)"
      ]
     },
     "execution_count": 11,
     "metadata": {},
     "output_type": "execute_result"
    }
   ],
   "source": [
    "ray = Ray(dir=np.array([0,1,-1]))\n",
    "tri.intersect(ray)"
   ]
  },
  {
   "cell_type": "code",
   "execution_count": 12,
   "metadata": {},
   "outputs": [],
   "source": [
    "V, F = igl.read_triangle_mesh(\"standard_sphere_2.obj\")\n",
    "ray = Ray(dir=np.array([0.,0.,1.]))\n",
    "\n",
    "# for i in range(len(F)):\n",
    "#     v = V[F[i]]\n",
    "\n",
    "#     tri = Triangle(v, i)\n",
    "#     print(tri.intersect(ray))"
   ]
  },
  {
   "cell_type": "markdown",
   "metadata": {},
   "source": [
    "# BVH"
   ]
  },
  {
   "cell_type": "code",
   "execution_count": 13,
   "metadata": {},
   "outputs": [],
   "source": [
    "# class BVHNode:\n",
    "#     \"\"\"BVH node implementation.\n",
    "#     \"\"\"\n",
    "\n",
    "#     def __init__(self, bound:Bound3D, splitAxis:int = 0, left=None, right=None):\n",
    "#         self.bound = bound\n",
    "#         self.splitAxis = splitAxis\n",
    "\n",
    "#         self.left = left\n",
    "#         self.right= right\n",
    "\n",
    "\n",
    "# def initLeaf(bound: Bound3D) -> BVHNode:\n",
    "#     \"\"\"Initialize a leaf node.\n",
    "#     \"\"\"\n",
    "#     node = BVHNode(bound)\n",
    "\n",
    "#     return node\n",
    "\n",
    "# def initInterior(splitAxis: int, left: BVHNode, right: BVHNode) -> BVHNode:\n",
    "#     \"\"\"Initialize an interior node.\n",
    "#     \"\"\"\n",
    "#     bound= unionBound(left.bound, right.bound)\n",
    "#     node = BVHNode(bound, splitAxis, left, right)\n",
    "\n",
    "#     return node"
   ]
  },
  {
   "cell_type": "code",
   "execution_count": 14,
   "metadata": {},
   "outputs": [],
   "source": [
    "class BVHNode:\n",
    "    \"\"\"Base node implementation.\n",
    "    \"\"\"\n",
    "\n",
    "    def __init__(self, bound:Bound3D, splitAxis:int):\n",
    "        self.bound = bound\n",
    "        self.splitAxis = splitAxis\n",
    "\n",
    "class leafNode(BVHNode):\n",
    "    \"\"\"Leaf node implementation.\n",
    "    \"\"\"\n",
    "\n",
    "    def __init__(self, first: int, nTriangles: int, bound: Bound3D):\n",
    "        super().__init__(bound, splitAxis=-1)\n",
    "\n",
    "        self.firstTriangleOffset = first\n",
    "        self.nTriangles = nTriangles\n",
    "\n",
    "class interiorNode(BVHNode):\n",
    "    \"\"\"Interior node implementation.\n",
    "    \"\"\"\n",
    "\n",
    "    def __init__(self, splitAxis: int, left: BVHNode, right: BVHNode):\n",
    "        bound = unionBound(left.bound, right.bound)\n",
    "        super().__init__(bound, splitAxis)\n",
    "\n",
    "        self.left = left\n",
    "        self.right= right"
   ]
  },
  {
   "cell_type": "code",
   "execution_count": 15,
   "metadata": {},
   "outputs": [],
   "source": [
    "class BucketInfo:\n",
    "    \"\"\"Bucket info container.\n",
    "    \"\"\"\n",
    "\n",
    "    def __init__(self, nBuckets: int):\n",
    "        self.nBuckets = nBuckets\n",
    "\n",
    "        self.count = np.zeros(self.nBuckets, dtype=int)\n",
    "        self.bounds= [EmptyBound3D() for _ in range(self.nBuckets)]\n",
    "    \n",
    "    def push(self, idx: int, bound: Bound3D) -> None:\n",
    "        \"\"\"Push a bounding box to the given bucket.\n",
    "        \"\"\"\n",
    "\n",
    "        self.count[idx] += 1\n",
    "        self.bounds[idx] = unionBound(self.bounds[idx], bound)\n",
    "    \n",
    "    def SAH(self) -> np.ndarray:\n",
    "        \"\"\"Find cost for splitting buckets with SAH.\n",
    "\n",
    "        Return:\n",
    "            cost[nBuckets-1]: cost of splitting buckets\n",
    "        \"\"\"\n",
    "\n",
    "        cost = np.zeros(self.nBuckets-1)\n",
    "        totalSurfaceArea = self.boundsArea() + 1e-7\n",
    "\n",
    "        for i in range(self.nBuckets-1):\n",
    "            b0, b1 = EmptyBound3D(), EmptyBound3D()\n",
    "            count0, count1 = 0, 0\n",
    "\n",
    "            for j in range(i+1):\n",
    "                b0 = unionBound(b0, self.bounds[j])\n",
    "                count0 += self.count[j]\n",
    "            \n",
    "            for j in range(i+1, self.nBuckets):\n",
    "                b1 = unionBound(b1, self.bounds[j])\n",
    "                count1 += self.count[j]\n",
    "            \n",
    "            cost[i] = 0.125 + (count0*b0.surfaceArea() + count1*b1.surfaceArea()) / totalSurfaceArea\n",
    "\n",
    "        return cost\n",
    "    \n",
    "    def boundsArea(self) -> float:\n",
    "        \"\"\"Calculate total surface area of all buckets.\n",
    "\n",
    "        Return:\n",
    "            A: surface area of the union of all boxes\n",
    "        \"\"\"\n",
    "\n",
    "        box = EmptyBound3D()\n",
    "        for bound in self.bounds:\n",
    "            box = unionBound(box, bound)\n",
    "\n",
    "        return box.surfaceArea()"
   ]
  },
  {
   "cell_type": "code",
   "execution_count": 16,
   "metadata": {},
   "outputs": [],
   "source": [
    "from typing import Callable\n",
    "\n",
    "def partition(lst: list, first: int, last: int, fun: Callable) -> int:\n",
    "    \"\"\"Python version of std::partition.\n",
    "    \"\"\"\n",
    "\n",
    "    if first == last:\n",
    "        return first\n",
    "\n",
    "    for i in range(first, last):\n",
    "        if fun(lst[i]):\n",
    "            lst[first], lst[i] = lst[i], lst[first]\n",
    "            first += 1\n",
    "    # print(lst)\n",
    "    return first"
   ]
  },
  {
   "cell_type": "code",
   "execution_count": 17,
   "metadata": {},
   "outputs": [],
   "source": [
    "class BVH:\n",
    "    \"\"\"BVH acceleration.\n",
    "    \"\"\"\n",
    "\n",
    "    def __init__(self, triangles:list[Triangle], nBuckets:int=12):\n",
    "        self.triangles = triangles[:]\n",
    "        self.nBuckets  = nBuckets\n",
    "\n",
    "        ## build the BVH tree recursively\n",
    "        orderedTriangles = []\n",
    "        self.root = self._recursiveBuild(0, len(self.triangles), orderedTriangles)\n",
    "        self.triangles = orderedTriangles\n",
    "    \n",
    "    def _recursiveBuild(self, start: int, end: int, orderedTriangles: list[Triangle]) -> BVHNode:\n",
    "        \"\"\"Build BVH recursively.\n",
    "        \"\"\"\n",
    "        ## TODO: build the BVH tree recursively\n",
    "        # print(self.triangles[0])\n",
    "        ## bound of all the triangles\n",
    "        bounds = EmptyBound3D()\n",
    "        for i in range(start, end):\n",
    "            bounds = unionBound(bounds, self.triangles[i].bound())\n",
    "        \n",
    "        nTriangles = end - start\n",
    "        ## create a leaf node if only one triangle is considered\n",
    "        if nTriangles == 1:\n",
    "            ## TODO: update this later\n",
    "            first = len(orderedTriangles)\n",
    "            orderedTriangles.append(self.triangles[start])\n",
    "            # print(f\"triangle[{start}]: {self.triangles[start]} is added to orderedTriangles.\")\n",
    "            return leafNode(first, nTriangles, bounds)\n",
    "        \n",
    "        ## otherwise build the tree\n",
    "        else:\n",
    "            ## compute bound of primitive centroids, choose split dimension\n",
    "            centroidBounds = EmptyBound3D()\n",
    "\n",
    "            for i in range(start, end):\n",
    "                centroid = self.triangles[i].centroid()\n",
    "                centroidBounds = unionBound(centroidBounds, Bound3D(centroid, centroid))\n",
    "            \n",
    "            dim = centroidBounds.maximumExtent()\n",
    "\n",
    "            if centroidBounds.pMax[dim] == centroidBounds.pMin[dim]:\n",
    "                mid = (start + end) // 2\n",
    "            else:\n",
    "                ## partition primitives into two sets and build children\n",
    "                if nTriangles == 2:\n",
    "                    mid = (start + end) // 2\n",
    "                    self.triangles[start: end] = sorted(self.triangles[start: end], key=lambda triangle: triangle.centroid()[dim])\n",
    "                else:\n",
    "                    buckets = BucketInfo(self.nBuckets)\n",
    "\n",
    "                    ## distribute bounding boxes to buckets\n",
    "                    for i in range(start, end):\n",
    "                        b = self.nBuckets * centroidBounds.offset(self.triangles[i].centroid())[dim]\n",
    "                        b = min(int(b), self.nBuckets-1)\n",
    "\n",
    "                        buckets.push(b, self.triangles[i].bound())\n",
    "\n",
    "                    ## find bucket to split at that minimizes SAH metric\n",
    "                    cost = buckets.SAH()\n",
    "                    minCostSplitBucket = np.argmin(cost)\n",
    "                    minCost = cost[minCostSplitBucket]\n",
    "\n",
    "                    ## either create leaf or split primitives at selected SAH bucket\n",
    "                    # leafCost = nTriangles\n",
    "                    # if minCost < leafCost:\n",
    "                    ## partition the triangles to two sets\n",
    "                    def fun(triangle: Triangle):\n",
    "                        b = self.nBuckets * centroidBounds.offset(triangle.centroid())[dim]\n",
    "                        b = min(int(b), self.nBuckets-1)\n",
    "                        return b <= minCostSplitBucket\n",
    "                        \n",
    "                    mid = partition(self.triangles, start, end, fun)\n",
    "                    # else:\n",
    "                    #     first = len(orderedTriangles)\n",
    "                    #     for i in range(start, end):\n",
    "                    #         orderedTriangles.append(self.triangles[i])\n",
    "                        \n",
    "                    #     return leafNode(first, nTriangles, bounds)\n",
    "            \n",
    "            # print(start, mid, end)\n",
    "            node = interiorNode(dim, \n",
    "                                self._recursiveBuild(start, mid, orderedTriangles),\n",
    "                                self._recursiveBuild(mid,   end, orderedTriangles))\n",
    "        \n",
    "        return node\n",
    "\n",
    "    def intersect(self, ray: Ray):\n",
    "        ## TODO: ray intersection\n",
    "        return self._intersect(ray, self.root)\n",
    "\n",
    "    def _intersect(self, ray: Ray, node: BVHNode) -> Tuple[bool, float, int]:\n",
    "        \"\"\"Find intersection with a given ray and node.\n",
    "\n",
    "        Args:\n",
    "            ray: ray instance\n",
    "            node: current node\n",
    "        \n",
    "        Return:\n",
    "            hit: whether the ray hits a triangle\n",
    "            t: time of flight\n",
    "            idx: triangle index\n",
    "        \"\"\"\n",
    "        hit = node.bound.intersect(ray)\n",
    "        if hit:\n",
    "            if isinstance(node, leafNode):\n",
    "                idx = node.firstTriangleOffset\n",
    "                return *self.triangles[idx].intersect(ray), idx\n",
    "            else:\n",
    "                hit1, t1, idx1 = self._intersect(ray, node.left)\n",
    "                hit2, t2, idx2 = self._intersect(ray, node.right)\n",
    "\n",
    "                if hit1 and hit2:\n",
    "                    if t1 < t2:\n",
    "                        return True, t1, idx1\n",
    "                    else:\n",
    "                        return True, t2, idx2\n",
    "                elif hit1:\n",
    "                    return True, t1, idx1\n",
    "                elif hit2:\n",
    "                    return True, t2, idx2\n",
    "        \n",
    "        return False, 0., -1"
   ]
  },
  {
   "cell_type": "code",
   "execution_count": 18,
   "metadata": {},
   "outputs": [],
   "source": [
    "# V = np.array([\n",
    "#     [0, 0, 0],\n",
    "#     [1, 0, 0],\n",
    "#     [2, 0, 0],\n",
    "#     [0, 1, 0],\n",
    "#     [1, 1, 0],\n",
    "#     [2, 1, 0]\n",
    "# ], dtype=float)\n",
    "\n",
    "# F = np.array([\n",
    "#     [0, 1, 4],\n",
    "#     [0, 4, 3],\n",
    "#     [1, 2, 5],\n",
    "#     [1, 5, 4]\n",
    "# ])\n",
    "\n",
    "# triangles = [Triangle(V[F[i]], i) for i in range(len(F))]\n",
    "# bvh = BVH(triangles)"
   ]
  },
  {
   "cell_type": "code",
   "execution_count": 19,
   "metadata": {},
   "outputs": [],
   "source": [
    "V, F = igl.read_triangle_mesh(\"standard_sphere_4.obj\")\n",
    "triangles = [Triangle(V[F[i]], i) for i in range(len(F))]\n",
    "\n",
    "bvh = BVH(triangles)"
   ]
  },
  {
   "cell_type": "code",
   "execution_count": null,
   "metadata": {},
   "outputs": [],
   "source": []
  },
  {
   "cell_type": "code",
   "execution_count": 20,
   "metadata": {},
   "outputs": [],
   "source": [
    "rays = []\n",
    "for _ in range(1000):\n",
    "    origin = np.zeros(3)\n",
    "    direction = np.random.random(3)\n",
    "    rays.append(Ray(origin, direction))"
   ]
  },
  {
   "cell_type": "code",
   "execution_count": 21,
   "metadata": {},
   "outputs": [],
   "source": [
    "t1 = []\n",
    "F1 = []\n",
    "for ray in rays:\n",
    "    for i, triangle in enumerate(triangles):\n",
    "        hit, t = triangle.intersect(ray)\n",
    "        if hit:\n",
    "            t1.append(t)\n",
    "            F1.append(i)\n",
    "            break"
   ]
  },
  {
   "cell_type": "code",
   "execution_count": 22,
   "metadata": {},
   "outputs": [],
   "source": [
    "t2 = []\n",
    "F2 = []\n",
    "for ray in rays:\n",
    "    _, t, idx = bvh.intersect(ray)\n",
    "    t2.append(t)\n",
    "    F2.append(bvh.triangles[idx].faceIdx)"
   ]
  },
  {
   "cell_type": "code",
   "execution_count": 23,
   "metadata": {},
   "outputs": [
    {
     "data": {
      "text/plain": [
       "True"
      ]
     },
     "execution_count": 23,
     "metadata": {},
     "output_type": "execute_result"
    }
   ],
   "source": [
    "np.allclose(t1, t2)"
   ]
  },
  {
   "cell_type": "code",
   "execution_count": 25,
   "metadata": {},
   "outputs": [
    {
     "data": {
      "text/plain": [
       "True"
      ]
     },
     "execution_count": 25,
     "metadata": {},
     "output_type": "execute_result"
    }
   ],
   "source": [
    "np.allclose(F1, F2)"
   ]
  }
 ],
 "metadata": {
  "kernelspec": {
   "display_name": "Python 3.9.12 ('geometry')",
   "language": "python",
   "name": "python3"
  },
  "language_info": {
   "codemirror_mode": {
    "name": "ipython",
    "version": 3
   },
   "file_extension": ".py",
   "mimetype": "text/x-python",
   "name": "python",
   "nbconvert_exporter": "python",
   "pygments_lexer": "ipython3",
   "version": "3.9.12"
  },
  "orig_nbformat": 4,
  "vscode": {
   "interpreter": {
    "hash": "c95145bd89bf902af3c4376471c93d04d8d82f3fc2cf159b1d0bd9cf479248c0"
   }
  }
 },
 "nbformat": 4,
 "nbformat_minor": 2
}
